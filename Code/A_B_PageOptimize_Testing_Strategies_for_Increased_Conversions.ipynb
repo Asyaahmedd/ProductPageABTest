{
  "nbformat": 4,
  "nbformat_minor": 0,
  "metadata": {
    "colab": {
      "provenance": []
    },
    "kernelspec": {
      "name": "python3",
      "display_name": "Python 3"
    },
    "language_info": {
      "name": "python"
    }
  },
  "cells": [
    {
      "cell_type": "markdown",
      "source": [
        "# A/B Testing For Optimizing Product Page for Higher Conversions"
      ],
      "metadata": {
        "id": "-uljzVpXRj4i"
      }
    },
    {
      "cell_type": "markdown",
      "source": [
        "## Problem definition"
      ],
      "metadata": {
        "id": "Cxf2yy_YS-kF"
      }
    },
    {
      "cell_type": "markdown",
      "source": [
        "The medium-sized online e-commerce business, VirtuMart Central, is currently experiencing a conversion rate of approximately 13% on its product page. The UX design team has developed a new version of the product page with the aim of increasing this conversion rate. The goal is to achieve an uplift of 2%, raising the conversion rate to 15%. The challenge is to determine whether the new design is effective in achieving this uplift. This will be tested through an A/B test, named the “Product Page Conversion Test”, where the performance of the new design (variant B) will be compared against the current design (variant A) in terms of conversion rate. The success of the new design will be measured by its ability to achieve or exceed the target conversion rate of 15%.\n",
        "\n",
        "Note: VirtuMart Central is a fictional company."
      ],
      "metadata": {
        "id": "69KDGjCNTJRQ"
      }
    },
    {
      "cell_type": "markdown",
      "source": [
        " **Conversion rate:**\n",
        " In the context of e-commerce, the conversion rate is the percentage of visitors to your e-commerce website or landing page that complete a desired action. This action could be anything from making a purchase, signing up for a newsletter, downloading a file, or any other goal of the webpage. In our scenario, the current conversion rate of the product page is 13%, meaning that out of every 100 visitors to the product page, 13 are making a purchase. The goal is to increase this to 15% with the new design."
      ],
      "metadata": {
        "id": "w7UCqTpwUZ8Z"
      }
    },
    {
      "cell_type": "markdown",
      "source": [
        "\n",
        "## 1. Designing our experiment"
      ],
      "metadata": {
        "id": "G19LknwBo_pO"
      }
    },
    {
      "cell_type": "markdown",
      "source": [
        "### Formulating a hypothesis"
      ],
      "metadata": {
        "id": "xuk_HjrnVZhO"
      }
    },
    {
      "cell_type": "markdown",
      "source": [
        "\n",
        "At the commencement of our project, it's crucial to formulate a hypothesis. This ensures that our interpretation of the results is both accurate and rigorous.\n",
        "\n",
        "Considering the uncertainty of whether the new design will outperform, underperform, or perform similarly to our current design, we opt for a two-tailed test. In this context, `p0` and `p1` represent the conversion rates of the new and old designs, respectively.\n",
        "\n",
        "We establish a confidence level of 95%, denoted as:\n",
        "\n",
        "```\n",
        "Confidence Level = 95%\n",
        "```\n",
        "\n",
        "The `α` value is a predefined threshold. If the probability of observing a result as extreme or more (p-value) is less than `α`, we reject the null hypothesis. Given our `α` is 0.05 (indicating a 5% probability), our confidence (1 - `α`) is 95%."
      ],
      "metadata": {
        "id": "4vCM9X7-axil"
      }
    },
    {
      "cell_type": "markdown",
      "source": [
        "\n",
        "### Variable Selection\n",
        "\n",
        "For our experiment, we require two groups:\n",
        "\n",
        "1. **Control Group**: This group will be presented with the old design.\n",
        "2. **Experimental Group (or Treatment Group)**: This group will be exposed to the new design.\n",
        "\n",
        "These groups represent our **Independent Variable**. The rationale for having two groups, despite knowing the baseline conversion rate, is to control for potential confounding variables, such as seasonality. By having a control group, we can directly compare their results with the experimental group. Since the only systematic difference between the groups is the design of the product page, we can attribute any differences in results to the designs.\n",
        "\n",
        "Our **Dependent Variable** (the metric we aim to measure) is the conversion rate. We can represent this for each user session with a binary variable:\n",
        "\n",
        "- `0` - The user did not purchase the product during this session.\n",
        "- `1` - The user purchased the product during this session.\n",
        "\n",
        "By doing this, we can easily calculate the mean for each group to determine the conversion rate of each design."
      ],
      "metadata": {
        "id": "7AIx-5NVf4XP"
      }
    },
    {
      "cell_type": "markdown",
      "source": [
        "### Determining Sample Size\n",
        "\n",
        "It's crucial to understand that we won't be testing our entire user base (our population). Therefore, the conversion rates we obtain will only be estimates of the actual rates.\n",
        "\n",
        "The number of individuals (or user sessions) we include in each group will impact the precision of our estimated conversion rates. A larger sample size leads to more precise estimates (i.e., smaller confidence intervals) and a higher probability of detecting a difference between the two groups, if one exists.\n",
        "\n",
        "However, as our sample size increases, our study becomes more costly and impractical.\n",
        "\n",
        "So, how many individuals should we include in each group?\n",
        "\n",
        "The required sample size is determined through a process known as Power Analysis, which depends on several factors:\n",
        "\n",
        "- **Test Power (β)**: This represents the probability of detecting a statistical difference between the groups in our test when a difference actually exists. Conventionally, this is set at 0.8.\n",
        "- **Alpha Value (α)**: This is the critical value we previously set to 0.05.\n",
        "- **Effect Size**: This is the expected difference between the conversion rates.\n",
        "\n",
        "Assuming our team would be satisfied with a difference of 2%, we can use 13% and 15% to calculate the expected effect size.\n",
        "\n",
        "Fortunately, Python can handle all these calculations for us:"
      ],
      "metadata": {
        "id": "uL3sWBnbilhk"
      }
    },
    {
      "cell_type": "code",
      "execution_count": 20,
      "metadata": {
        "id": "nXpzX01KBvkV"
      },
      "outputs": [],
      "source": [
        "# Importing necessary libraries\n",
        "import numpy as np  # For numerical operations\n",
        "import pandas as pd  # For data manipulation and analysis\n",
        "import scipy.stats as stats  # For statistical functions\n",
        "import statsmodels.stats.api as sms  # For statistical models\n",
        "import matplotlib as mpl  # For creating static, animated, and interactive visualizations\n",
        "import matplotlib.pyplot as plt  # For creating static, animated, and interactive visualizations\n",
        "import seaborn as sns  # For data visualization based on matplotlib\n",
        "from math import ceil  # For rounding up\n",
        "\n",
        "# This line allows the visuals to render within your Jupyter Notebook\n",
        "%matplotlib inline\n",
        "\n",
        "# Setting some styling preferences for our plot\n",
        "sns.set_style(\"whitegrid\")  # Using seaborn's whitegrid style for plots\n",
        "font = {'family' : 'Arial',  # The font family\n",
        "        'weight' : 'bold',  # The font weight\n",
        "        'size'   : 14}  # The font size\n",
        "\n",
        "mpl.rc('font', **font)  # Applying the font settings\n"
      ]
    },
    {
      "cell_type": "code",
      "source": [
        "effect_size = sms.proportion_effectsize(0.13, 0.15)    # Calculating effect size based on our expected rates\n",
        "\n",
        "required_n = sms.NormalIndPower().solve_power(\n",
        "    effect_size,\n",
        "    power=0.8,\n",
        "    alpha=0.05,\n",
        "    ratio=1\n",
        "    )                                                  # Calculating sample size needed\n",
        "\n",
        "required_n = ceil(required_n)                          # Rounding up to next whole number\n",
        "\n",
        "print(required_n)"
      ],
      "metadata": {
        "id": "cXUHLYQcS8aW",
        "colab": {
          "base_uri": "https://localhost:8080/"
        },
        "outputId": "f0ba41ac-1cba-43a3-c9d7-ddb47b256f62"
      },
      "execution_count": 3,
      "outputs": [
        {
          "output_type": "stream",
          "name": "stdout",
          "text": [
            "4720\n"
          ]
        }
      ]
    },
    {
      "cell_type": "markdown",
      "source": [
        "We'd need at least 4720 observations for each group.\n",
        "\n",
        "Setting the power parameter to 0.8 essentially implies that if there is a real difference in the conversion rate between our designs, and we assume this difference to be as we estimated (13% vs. 15%), then there is approximately an 80% probability that we will identify it as statistically significant in our test with the calculated sample size."
      ],
      "metadata": {
        "id": "we2ANC32nGRx"
      }
    },
    {
      "cell_type": "markdown",
      "source": [
        "## 2. Collecting and preparing the data"
      ],
      "metadata": {
        "id": "Fk5cejSDou-a"
      }
    },
    {
      "cell_type": "markdown",
      "source": [
        "Now that we've determined the necessary sample size, the next step is to gather the data. Typically, at this juncture, you would collaborate with your team to initiate the experiment, likely with the assistance of the Engineering team, ensuring that you amass sufficient data in accordance with the required sample size."
      ],
      "metadata": {
        "id": "9j_CU-Jzor_K"
      }
    },
    {
      "cell_type": "code",
      "source": [
        "# Importing the data from a CSV file located in the specified path\n",
        "df = pd.read_csv('/content/drive/MyDrive/a_btest_data.csv')\n",
        "\n",
        "# Displaying the first 5 rows of the dataframe to check if the data has been loaded correctly\n",
        "df.head()\n"
      ],
      "metadata": {
        "colab": {
          "base_uri": "https://localhost:8080/",
          "height": 206
        },
        "id": "DhjKB03enCBl",
        "outputId": "56de9b4b-b16d-4f92-c1d2-446dc0797ef2"
      },
      "execution_count": 4,
      "outputs": [
        {
          "output_type": "execute_result",
          "data": {
            "text/plain": [
              "   user_id                   timestamp      group landing_page  converted\n",
              "0   851104  2017-01-21 22:11:48.556739    control     old_page          0\n",
              "1   804228  2017-01-12 08:01:45.159739    control     old_page          0\n",
              "2   661590  2017-01-11 16:55:06.154213  treatment     new_page          0\n",
              "3   853541  2017-01-08 18:28:03.143765  treatment     new_page          0\n",
              "4   864975  2017-01-21 01:52:26.210827    control     old_page          1"
            ],
            "text/html": [
              "\n",
              "  <div id=\"df-fe6e8c5e-e17b-4553-b164-c6a0a74bb4a6\" class=\"colab-df-container\">\n",
              "    <div>\n",
              "<style scoped>\n",
              "    .dataframe tbody tr th:only-of-type {\n",
              "        vertical-align: middle;\n",
              "    }\n",
              "\n",
              "    .dataframe tbody tr th {\n",
              "        vertical-align: top;\n",
              "    }\n",
              "\n",
              "    .dataframe thead th {\n",
              "        text-align: right;\n",
              "    }\n",
              "</style>\n",
              "<table border=\"1\" class=\"dataframe\">\n",
              "  <thead>\n",
              "    <tr style=\"text-align: right;\">\n",
              "      <th></th>\n",
              "      <th>user_id</th>\n",
              "      <th>timestamp</th>\n",
              "      <th>group</th>\n",
              "      <th>landing_page</th>\n",
              "      <th>converted</th>\n",
              "    </tr>\n",
              "  </thead>\n",
              "  <tbody>\n",
              "    <tr>\n",
              "      <th>0</th>\n",
              "      <td>851104</td>\n",
              "      <td>2017-01-21 22:11:48.556739</td>\n",
              "      <td>control</td>\n",
              "      <td>old_page</td>\n",
              "      <td>0</td>\n",
              "    </tr>\n",
              "    <tr>\n",
              "      <th>1</th>\n",
              "      <td>804228</td>\n",
              "      <td>2017-01-12 08:01:45.159739</td>\n",
              "      <td>control</td>\n",
              "      <td>old_page</td>\n",
              "      <td>0</td>\n",
              "    </tr>\n",
              "    <tr>\n",
              "      <th>2</th>\n",
              "      <td>661590</td>\n",
              "      <td>2017-01-11 16:55:06.154213</td>\n",
              "      <td>treatment</td>\n",
              "      <td>new_page</td>\n",
              "      <td>0</td>\n",
              "    </tr>\n",
              "    <tr>\n",
              "      <th>3</th>\n",
              "      <td>853541</td>\n",
              "      <td>2017-01-08 18:28:03.143765</td>\n",
              "      <td>treatment</td>\n",
              "      <td>new_page</td>\n",
              "      <td>0</td>\n",
              "    </tr>\n",
              "    <tr>\n",
              "      <th>4</th>\n",
              "      <td>864975</td>\n",
              "      <td>2017-01-21 01:52:26.210827</td>\n",
              "      <td>control</td>\n",
              "      <td>old_page</td>\n",
              "      <td>1</td>\n",
              "    </tr>\n",
              "  </tbody>\n",
              "</table>\n",
              "</div>\n",
              "    <div class=\"colab-df-buttons\">\n",
              "\n",
              "  <div class=\"colab-df-container\">\n",
              "    <button class=\"colab-df-convert\" onclick=\"convertToInteractive('df-fe6e8c5e-e17b-4553-b164-c6a0a74bb4a6')\"\n",
              "            title=\"Convert this dataframe to an interactive table.\"\n",
              "            style=\"display:none;\">\n",
              "\n",
              "  <svg xmlns=\"http://www.w3.org/2000/svg\" height=\"24px\" viewBox=\"0 -960 960 960\">\n",
              "    <path d=\"M120-120v-720h720v720H120Zm60-500h600v-160H180v160Zm220 220h160v-160H400v160Zm0 220h160v-160H400v160ZM180-400h160v-160H180v160Zm440 0h160v-160H620v160ZM180-180h160v-160H180v160Zm440 0h160v-160H620v160Z\"/>\n",
              "  </svg>\n",
              "    </button>\n",
              "\n",
              "  <style>\n",
              "    .colab-df-container {\n",
              "      display:flex;\n",
              "      gap: 12px;\n",
              "    }\n",
              "\n",
              "    .colab-df-convert {\n",
              "      background-color: #E8F0FE;\n",
              "      border: none;\n",
              "      border-radius: 50%;\n",
              "      cursor: pointer;\n",
              "      display: none;\n",
              "      fill: #1967D2;\n",
              "      height: 32px;\n",
              "      padding: 0 0 0 0;\n",
              "      width: 32px;\n",
              "    }\n",
              "\n",
              "    .colab-df-convert:hover {\n",
              "      background-color: #E2EBFA;\n",
              "      box-shadow: 0px 1px 2px rgba(60, 64, 67, 0.3), 0px 1px 3px 1px rgba(60, 64, 67, 0.15);\n",
              "      fill: #174EA6;\n",
              "    }\n",
              "\n",
              "    .colab-df-buttons div {\n",
              "      margin-bottom: 4px;\n",
              "    }\n",
              "\n",
              "    [theme=dark] .colab-df-convert {\n",
              "      background-color: #3B4455;\n",
              "      fill: #D2E3FC;\n",
              "    }\n",
              "\n",
              "    [theme=dark] .colab-df-convert:hover {\n",
              "      background-color: #434B5C;\n",
              "      box-shadow: 0px 1px 3px 1px rgba(0, 0, 0, 0.15);\n",
              "      filter: drop-shadow(0px 1px 2px rgba(0, 0, 0, 0.3));\n",
              "      fill: #FFFFFF;\n",
              "    }\n",
              "  </style>\n",
              "\n",
              "    <script>\n",
              "      const buttonEl =\n",
              "        document.querySelector('#df-fe6e8c5e-e17b-4553-b164-c6a0a74bb4a6 button.colab-df-convert');\n",
              "      buttonEl.style.display =\n",
              "        google.colab.kernel.accessAllowed ? 'block' : 'none';\n",
              "\n",
              "      async function convertToInteractive(key) {\n",
              "        const element = document.querySelector('#df-fe6e8c5e-e17b-4553-b164-c6a0a74bb4a6');\n",
              "        const dataTable =\n",
              "          await google.colab.kernel.invokeFunction('convertToInteractive',\n",
              "                                                    [key], {});\n",
              "        if (!dataTable) return;\n",
              "\n",
              "        const docLinkHtml = 'Like what you see? Visit the ' +\n",
              "          '<a target=\"_blank\" href=https://colab.research.google.com/notebooks/data_table.ipynb>data table notebook</a>'\n",
              "          + ' to learn more about interactive tables.';\n",
              "        element.innerHTML = '';\n",
              "        dataTable['output_type'] = 'display_data';\n",
              "        await google.colab.output.renderOutput(dataTable, element);\n",
              "        const docLink = document.createElement('div');\n",
              "        docLink.innerHTML = docLinkHtml;\n",
              "        element.appendChild(docLink);\n",
              "      }\n",
              "    </script>\n",
              "  </div>\n",
              "\n",
              "\n",
              "<div id=\"df-8e591aae-00d1-43f7-a40e-1c97faadcc41\">\n",
              "  <button class=\"colab-df-quickchart\" onclick=\"quickchart('df-8e591aae-00d1-43f7-a40e-1c97faadcc41')\"\n",
              "            title=\"Suggest charts\"\n",
              "            style=\"display:none;\">\n",
              "\n",
              "<svg xmlns=\"http://www.w3.org/2000/svg\" height=\"24px\"viewBox=\"0 0 24 24\"\n",
              "     width=\"24px\">\n",
              "    <g>\n",
              "        <path d=\"M19 3H5c-1.1 0-2 .9-2 2v14c0 1.1.9 2 2 2h14c1.1 0 2-.9 2-2V5c0-1.1-.9-2-2-2zM9 17H7v-7h2v7zm4 0h-2V7h2v10zm4 0h-2v-4h2v4z\"/>\n",
              "    </g>\n",
              "</svg>\n",
              "  </button>\n",
              "\n",
              "<style>\n",
              "  .colab-df-quickchart {\n",
              "      --bg-color: #E8F0FE;\n",
              "      --fill-color: #1967D2;\n",
              "      --hover-bg-color: #E2EBFA;\n",
              "      --hover-fill-color: #174EA6;\n",
              "      --disabled-fill-color: #AAA;\n",
              "      --disabled-bg-color: #DDD;\n",
              "  }\n",
              "\n",
              "  [theme=dark] .colab-df-quickchart {\n",
              "      --bg-color: #3B4455;\n",
              "      --fill-color: #D2E3FC;\n",
              "      --hover-bg-color: #434B5C;\n",
              "      --hover-fill-color: #FFFFFF;\n",
              "      --disabled-bg-color: #3B4455;\n",
              "      --disabled-fill-color: #666;\n",
              "  }\n",
              "\n",
              "  .colab-df-quickchart {\n",
              "    background-color: var(--bg-color);\n",
              "    border: none;\n",
              "    border-radius: 50%;\n",
              "    cursor: pointer;\n",
              "    display: none;\n",
              "    fill: var(--fill-color);\n",
              "    height: 32px;\n",
              "    padding: 0;\n",
              "    width: 32px;\n",
              "  }\n",
              "\n",
              "  .colab-df-quickchart:hover {\n",
              "    background-color: var(--hover-bg-color);\n",
              "    box-shadow: 0 1px 2px rgba(60, 64, 67, 0.3), 0 1px 3px 1px rgba(60, 64, 67, 0.15);\n",
              "    fill: var(--button-hover-fill-color);\n",
              "  }\n",
              "\n",
              "  .colab-df-quickchart-complete:disabled,\n",
              "  .colab-df-quickchart-complete:disabled:hover {\n",
              "    background-color: var(--disabled-bg-color);\n",
              "    fill: var(--disabled-fill-color);\n",
              "    box-shadow: none;\n",
              "  }\n",
              "\n",
              "  .colab-df-spinner {\n",
              "    border: 2px solid var(--fill-color);\n",
              "    border-color: transparent;\n",
              "    border-bottom-color: var(--fill-color);\n",
              "    animation:\n",
              "      spin 1s steps(1) infinite;\n",
              "  }\n",
              "\n",
              "  @keyframes spin {\n",
              "    0% {\n",
              "      border-color: transparent;\n",
              "      border-bottom-color: var(--fill-color);\n",
              "      border-left-color: var(--fill-color);\n",
              "    }\n",
              "    20% {\n",
              "      border-color: transparent;\n",
              "      border-left-color: var(--fill-color);\n",
              "      border-top-color: var(--fill-color);\n",
              "    }\n",
              "    30% {\n",
              "      border-color: transparent;\n",
              "      border-left-color: var(--fill-color);\n",
              "      border-top-color: var(--fill-color);\n",
              "      border-right-color: var(--fill-color);\n",
              "    }\n",
              "    40% {\n",
              "      border-color: transparent;\n",
              "      border-right-color: var(--fill-color);\n",
              "      border-top-color: var(--fill-color);\n",
              "    }\n",
              "    60% {\n",
              "      border-color: transparent;\n",
              "      border-right-color: var(--fill-color);\n",
              "    }\n",
              "    80% {\n",
              "      border-color: transparent;\n",
              "      border-right-color: var(--fill-color);\n",
              "      border-bottom-color: var(--fill-color);\n",
              "    }\n",
              "    90% {\n",
              "      border-color: transparent;\n",
              "      border-bottom-color: var(--fill-color);\n",
              "    }\n",
              "  }\n",
              "</style>\n",
              "\n",
              "  <script>\n",
              "    async function quickchart(key) {\n",
              "      const quickchartButtonEl =\n",
              "        document.querySelector('#' + key + ' button');\n",
              "      quickchartButtonEl.disabled = true;  // To prevent multiple clicks.\n",
              "      quickchartButtonEl.classList.add('colab-df-spinner');\n",
              "      try {\n",
              "        const charts = await google.colab.kernel.invokeFunction(\n",
              "            'suggestCharts', [key], {});\n",
              "      } catch (error) {\n",
              "        console.error('Error during call to suggestCharts:', error);\n",
              "      }\n",
              "      quickchartButtonEl.classList.remove('colab-df-spinner');\n",
              "      quickchartButtonEl.classList.add('colab-df-quickchart-complete');\n",
              "    }\n",
              "    (() => {\n",
              "      let quickchartButtonEl =\n",
              "        document.querySelector('#df-8e591aae-00d1-43f7-a40e-1c97faadcc41 button');\n",
              "      quickchartButtonEl.style.display =\n",
              "        google.colab.kernel.accessAllowed ? 'block' : 'none';\n",
              "    })();\n",
              "  </script>\n",
              "</div>\n",
              "    </div>\n",
              "  </div>\n"
            ]
          },
          "metadata": {},
          "execution_count": 4
        }
      ]
    },
    {
      "cell_type": "code",
      "source": [
        "# The info() function is used to print a concise summary of a DataFrame.\n",
        "# This includes the index dtype and column dtypes, non-null values and memory usage.\n",
        "df.info()\n"
      ],
      "metadata": {
        "colab": {
          "base_uri": "https://localhost:8080/"
        },
        "id": "vTXlHT5Rp0fa",
        "outputId": "af787a08-3c58-4ba7-a5d7-00c82e0920ed"
      },
      "execution_count": 5,
      "outputs": [
        {
          "output_type": "stream",
          "name": "stdout",
          "text": [
            "<class 'pandas.core.frame.DataFrame'>\n",
            "RangeIndex: 294478 entries, 0 to 294477\n",
            "Data columns (total 5 columns):\n",
            " #   Column        Non-Null Count   Dtype \n",
            "---  ------        --------------   ----- \n",
            " 0   user_id       294478 non-null  int64 \n",
            " 1   timestamp     294478 non-null  object\n",
            " 2   group         294478 non-null  object\n",
            " 3   landing_page  294478 non-null  object\n",
            " 4   converted     294478 non-null  int64 \n",
            "dtypes: int64(2), object(3)\n",
            "memory usage: 11.2+ MB\n"
          ]
        }
      ]
    },
    {
      "cell_type": "markdown",
      "source": [
        "The DataFrame consists of 294478 rows, with each row representing a user session. It contains the following 5 columns:\n",
        "\n",
        "- **user_id**: The unique identifier for each session.\n",
        "- **timestamp**: The specific time at which the session occurred.\n",
        "- **group**: The group to which the user was assigned for that session. The groups are 'control' and 'treatment'.\n",
        "- **landing_page**: The design that each user encountered during the session. The designs are 'old_page' and 'new_page'.\n",
        "- **converted**: This indicates whether the session resulted in a conversion or not. It's a binary variable where 0 signifies 'not converted' and 1 signifies 'converted'.\n",
        "\n",
        "For the purpose of our analysis, we'll primarily focus on the 'group' and 'converted' columns."
      ],
      "metadata": {
        "id": "fS7-U6iisqQy"
      }
    },
    {
      "cell_type": "code",
      "source": [
        "# We want to ensure that all users in the control group are seeing the old page and vice versa.\n",
        "# So, we create a cross-tabulation (or contingency table) of 'group' and 'landing_page' columns.\n",
        "# This table provides us a summary of the frequency distribution of these categories.\n",
        "\n",
        "pd.crosstab(df['group'], df['landing_page'])\n"
      ],
      "metadata": {
        "colab": {
          "base_uri": "https://localhost:8080/",
          "height": 143
        },
        "id": "8F7lrkY2qJwy",
        "outputId": "c02a749c-d95c-42a7-98b3-3024213e6ecc"
      },
      "execution_count": 6,
      "outputs": [
        {
          "output_type": "execute_result",
          "data": {
            "text/plain": [
              "landing_page  new_page  old_page\n",
              "group                           \n",
              "control           1928    145274\n",
              "treatment       145311      1965"
            ],
            "text/html": [
              "\n",
              "  <div id=\"df-9dbfdbe5-e82f-40c0-b2c7-2f778713474c\" class=\"colab-df-container\">\n",
              "    <div>\n",
              "<style scoped>\n",
              "    .dataframe tbody tr th:only-of-type {\n",
              "        vertical-align: middle;\n",
              "    }\n",
              "\n",
              "    .dataframe tbody tr th {\n",
              "        vertical-align: top;\n",
              "    }\n",
              "\n",
              "    .dataframe thead th {\n",
              "        text-align: right;\n",
              "    }\n",
              "</style>\n",
              "<table border=\"1\" class=\"dataframe\">\n",
              "  <thead>\n",
              "    <tr style=\"text-align: right;\">\n",
              "      <th>landing_page</th>\n",
              "      <th>new_page</th>\n",
              "      <th>old_page</th>\n",
              "    </tr>\n",
              "    <tr>\n",
              "      <th>group</th>\n",
              "      <th></th>\n",
              "      <th></th>\n",
              "    </tr>\n",
              "  </thead>\n",
              "  <tbody>\n",
              "    <tr>\n",
              "      <th>control</th>\n",
              "      <td>1928</td>\n",
              "      <td>145274</td>\n",
              "    </tr>\n",
              "    <tr>\n",
              "      <th>treatment</th>\n",
              "      <td>145311</td>\n",
              "      <td>1965</td>\n",
              "    </tr>\n",
              "  </tbody>\n",
              "</table>\n",
              "</div>\n",
              "    <div class=\"colab-df-buttons\">\n",
              "\n",
              "  <div class=\"colab-df-container\">\n",
              "    <button class=\"colab-df-convert\" onclick=\"convertToInteractive('df-9dbfdbe5-e82f-40c0-b2c7-2f778713474c')\"\n",
              "            title=\"Convert this dataframe to an interactive table.\"\n",
              "            style=\"display:none;\">\n",
              "\n",
              "  <svg xmlns=\"http://www.w3.org/2000/svg\" height=\"24px\" viewBox=\"0 -960 960 960\">\n",
              "    <path d=\"M120-120v-720h720v720H120Zm60-500h600v-160H180v160Zm220 220h160v-160H400v160Zm0 220h160v-160H400v160ZM180-400h160v-160H180v160Zm440 0h160v-160H620v160ZM180-180h160v-160H180v160Zm440 0h160v-160H620v160Z\"/>\n",
              "  </svg>\n",
              "    </button>\n",
              "\n",
              "  <style>\n",
              "    .colab-df-container {\n",
              "      display:flex;\n",
              "      gap: 12px;\n",
              "    }\n",
              "\n",
              "    .colab-df-convert {\n",
              "      background-color: #E8F0FE;\n",
              "      border: none;\n",
              "      border-radius: 50%;\n",
              "      cursor: pointer;\n",
              "      display: none;\n",
              "      fill: #1967D2;\n",
              "      height: 32px;\n",
              "      padding: 0 0 0 0;\n",
              "      width: 32px;\n",
              "    }\n",
              "\n",
              "    .colab-df-convert:hover {\n",
              "      background-color: #E2EBFA;\n",
              "      box-shadow: 0px 1px 2px rgba(60, 64, 67, 0.3), 0px 1px 3px 1px rgba(60, 64, 67, 0.15);\n",
              "      fill: #174EA6;\n",
              "    }\n",
              "\n",
              "    .colab-df-buttons div {\n",
              "      margin-bottom: 4px;\n",
              "    }\n",
              "\n",
              "    [theme=dark] .colab-df-convert {\n",
              "      background-color: #3B4455;\n",
              "      fill: #D2E3FC;\n",
              "    }\n",
              "\n",
              "    [theme=dark] .colab-df-convert:hover {\n",
              "      background-color: #434B5C;\n",
              "      box-shadow: 0px 1px 3px 1px rgba(0, 0, 0, 0.15);\n",
              "      filter: drop-shadow(0px 1px 2px rgba(0, 0, 0, 0.3));\n",
              "      fill: #FFFFFF;\n",
              "    }\n",
              "  </style>\n",
              "\n",
              "    <script>\n",
              "      const buttonEl =\n",
              "        document.querySelector('#df-9dbfdbe5-e82f-40c0-b2c7-2f778713474c button.colab-df-convert');\n",
              "      buttonEl.style.display =\n",
              "        google.colab.kernel.accessAllowed ? 'block' : 'none';\n",
              "\n",
              "      async function convertToInteractive(key) {\n",
              "        const element = document.querySelector('#df-9dbfdbe5-e82f-40c0-b2c7-2f778713474c');\n",
              "        const dataTable =\n",
              "          await google.colab.kernel.invokeFunction('convertToInteractive',\n",
              "                                                    [key], {});\n",
              "        if (!dataTable) return;\n",
              "\n",
              "        const docLinkHtml = 'Like what you see? Visit the ' +\n",
              "          '<a target=\"_blank\" href=https://colab.research.google.com/notebooks/data_table.ipynb>data table notebook</a>'\n",
              "          + ' to learn more about interactive tables.';\n",
              "        element.innerHTML = '';\n",
              "        dataTable['output_type'] = 'display_data';\n",
              "        await google.colab.output.renderOutput(dataTable, element);\n",
              "        const docLink = document.createElement('div');\n",
              "        docLink.innerHTML = docLinkHtml;\n",
              "        element.appendChild(docLink);\n",
              "      }\n",
              "    </script>\n",
              "  </div>\n",
              "\n",
              "\n",
              "<div id=\"df-aafa9de7-bd6d-420a-bf34-a0499bdfdf44\">\n",
              "  <button class=\"colab-df-quickchart\" onclick=\"quickchart('df-aafa9de7-bd6d-420a-bf34-a0499bdfdf44')\"\n",
              "            title=\"Suggest charts\"\n",
              "            style=\"display:none;\">\n",
              "\n",
              "<svg xmlns=\"http://www.w3.org/2000/svg\" height=\"24px\"viewBox=\"0 0 24 24\"\n",
              "     width=\"24px\">\n",
              "    <g>\n",
              "        <path d=\"M19 3H5c-1.1 0-2 .9-2 2v14c0 1.1.9 2 2 2h14c1.1 0 2-.9 2-2V5c0-1.1-.9-2-2-2zM9 17H7v-7h2v7zm4 0h-2V7h2v10zm4 0h-2v-4h2v4z\"/>\n",
              "    </g>\n",
              "</svg>\n",
              "  </button>\n",
              "\n",
              "<style>\n",
              "  .colab-df-quickchart {\n",
              "      --bg-color: #E8F0FE;\n",
              "      --fill-color: #1967D2;\n",
              "      --hover-bg-color: #E2EBFA;\n",
              "      --hover-fill-color: #174EA6;\n",
              "      --disabled-fill-color: #AAA;\n",
              "      --disabled-bg-color: #DDD;\n",
              "  }\n",
              "\n",
              "  [theme=dark] .colab-df-quickchart {\n",
              "      --bg-color: #3B4455;\n",
              "      --fill-color: #D2E3FC;\n",
              "      --hover-bg-color: #434B5C;\n",
              "      --hover-fill-color: #FFFFFF;\n",
              "      --disabled-bg-color: #3B4455;\n",
              "      --disabled-fill-color: #666;\n",
              "  }\n",
              "\n",
              "  .colab-df-quickchart {\n",
              "    background-color: var(--bg-color);\n",
              "    border: none;\n",
              "    border-radius: 50%;\n",
              "    cursor: pointer;\n",
              "    display: none;\n",
              "    fill: var(--fill-color);\n",
              "    height: 32px;\n",
              "    padding: 0;\n",
              "    width: 32px;\n",
              "  }\n",
              "\n",
              "  .colab-df-quickchart:hover {\n",
              "    background-color: var(--hover-bg-color);\n",
              "    box-shadow: 0 1px 2px rgba(60, 64, 67, 0.3), 0 1px 3px 1px rgba(60, 64, 67, 0.15);\n",
              "    fill: var(--button-hover-fill-color);\n",
              "  }\n",
              "\n",
              "  .colab-df-quickchart-complete:disabled,\n",
              "  .colab-df-quickchart-complete:disabled:hover {\n",
              "    background-color: var(--disabled-bg-color);\n",
              "    fill: var(--disabled-fill-color);\n",
              "    box-shadow: none;\n",
              "  }\n",
              "\n",
              "  .colab-df-spinner {\n",
              "    border: 2px solid var(--fill-color);\n",
              "    border-color: transparent;\n",
              "    border-bottom-color: var(--fill-color);\n",
              "    animation:\n",
              "      spin 1s steps(1) infinite;\n",
              "  }\n",
              "\n",
              "  @keyframes spin {\n",
              "    0% {\n",
              "      border-color: transparent;\n",
              "      border-bottom-color: var(--fill-color);\n",
              "      border-left-color: var(--fill-color);\n",
              "    }\n",
              "    20% {\n",
              "      border-color: transparent;\n",
              "      border-left-color: var(--fill-color);\n",
              "      border-top-color: var(--fill-color);\n",
              "    }\n",
              "    30% {\n",
              "      border-color: transparent;\n",
              "      border-left-color: var(--fill-color);\n",
              "      border-top-color: var(--fill-color);\n",
              "      border-right-color: var(--fill-color);\n",
              "    }\n",
              "    40% {\n",
              "      border-color: transparent;\n",
              "      border-right-color: var(--fill-color);\n",
              "      border-top-color: var(--fill-color);\n",
              "    }\n",
              "    60% {\n",
              "      border-color: transparent;\n",
              "      border-right-color: var(--fill-color);\n",
              "    }\n",
              "    80% {\n",
              "      border-color: transparent;\n",
              "      border-right-color: var(--fill-color);\n",
              "      border-bottom-color: var(--fill-color);\n",
              "    }\n",
              "    90% {\n",
              "      border-color: transparent;\n",
              "      border-bottom-color: var(--fill-color);\n",
              "    }\n",
              "  }\n",
              "</style>\n",
              "\n",
              "  <script>\n",
              "    async function quickchart(key) {\n",
              "      const quickchartButtonEl =\n",
              "        document.querySelector('#' + key + ' button');\n",
              "      quickchartButtonEl.disabled = true;  // To prevent multiple clicks.\n",
              "      quickchartButtonEl.classList.add('colab-df-spinner');\n",
              "      try {\n",
              "        const charts = await google.colab.kernel.invokeFunction(\n",
              "            'suggestCharts', [key], {});\n",
              "      } catch (error) {\n",
              "        console.error('Error during call to suggestCharts:', error);\n",
              "      }\n",
              "      quickchartButtonEl.classList.remove('colab-df-spinner');\n",
              "      quickchartButtonEl.classList.add('colab-df-quickchart-complete');\n",
              "    }\n",
              "    (() => {\n",
              "      let quickchartButtonEl =\n",
              "        document.querySelector('#df-aafa9de7-bd6d-420a-bf34-a0499bdfdf44 button');\n",
              "      quickchartButtonEl.style.display =\n",
              "        google.colab.kernel.accessAllowed ? 'block' : 'none';\n",
              "    })();\n",
              "  </script>\n",
              "</div>\n",
              "    </div>\n",
              "  </div>\n"
            ]
          },
          "metadata": {},
          "execution_count": 6
        }
      ]
    },
    {
      "cell_type": "markdown",
      "source": [
        "The result we're seeing is a cross-tabulation between the 'group' and 'landing_page' columns of our dataset. Here's how to interpret it:\n",
        "\n",
        "- The 'control' group row shows that 1928 users in the control group incorrectly saw the new page, while 145274 users correctly saw the old page.\n",
        "- The 'treatment' group row shows that 145311 users in the treatment group correctly saw the new page, while 1965 users incorrectly saw the old page.\n",
        "\n",
        "Ideally, in a properly conducted A/B test, all users in the control group should see the old page and all users in the treatment group should see the new page. The presence of users seeing the incorrect page in both groups could potentially skew the results of the test. we might need to address this issue before proceeding with the analysis."
      ],
      "metadata": {
        "id": "WUcGnz9brYuf"
      }
    },
    {
      "cell_type": "markdown",
      "source": [
        " Address the issue of users seeing the incorrect page"
      ],
      "metadata": {
        "id": "UcLL7GESs5gi"
      }
    },
    {
      "cell_type": "code",
      "source": [
        "# Filter out the rows where users in the control group saw the new page\n",
        "df = df[~((df['group'] == 'control') & (df['landing_page'] == 'new_page'))]\n",
        "\n",
        "# Filter out the rows where users in the treatment group saw the old page\n",
        "df = df[~((df['group'] == 'treatment') & (df['landing_page'] == 'old_page'))]\n"
      ],
      "metadata": {
        "id": "tYIzx_6mqXHW"
      },
      "execution_count": 7,
      "outputs": []
    },
    {
      "cell_type": "code",
      "source": [
        "# verify that the data filtration has been done correctly.\n",
        "pd.crosstab(df['group'], df['landing_page'])\n"
      ],
      "metadata": {
        "colab": {
          "base_uri": "https://localhost:8080/",
          "height": 143
        },
        "id": "nDfz8eY2tBoW",
        "outputId": "69a758e6-e152-4f0f-bc46-068c3af4918f"
      },
      "execution_count": 10,
      "outputs": [
        {
          "output_type": "execute_result",
          "data": {
            "text/plain": [
              "landing_page  new_page  old_page\n",
              "group                           \n",
              "control              0    145274\n",
              "treatment       145311         0"
            ],
            "text/html": [
              "\n",
              "  <div id=\"df-7bd15d0f-46f1-4655-a78c-49654cb5a095\" class=\"colab-df-container\">\n",
              "    <div>\n",
              "<style scoped>\n",
              "    .dataframe tbody tr th:only-of-type {\n",
              "        vertical-align: middle;\n",
              "    }\n",
              "\n",
              "    .dataframe tbody tr th {\n",
              "        vertical-align: top;\n",
              "    }\n",
              "\n",
              "    .dataframe thead th {\n",
              "        text-align: right;\n",
              "    }\n",
              "</style>\n",
              "<table border=\"1\" class=\"dataframe\">\n",
              "  <thead>\n",
              "    <tr style=\"text-align: right;\">\n",
              "      <th>landing_page</th>\n",
              "      <th>new_page</th>\n",
              "      <th>old_page</th>\n",
              "    </tr>\n",
              "    <tr>\n",
              "      <th>group</th>\n",
              "      <th></th>\n",
              "      <th></th>\n",
              "    </tr>\n",
              "  </thead>\n",
              "  <tbody>\n",
              "    <tr>\n",
              "      <th>control</th>\n",
              "      <td>0</td>\n",
              "      <td>145274</td>\n",
              "    </tr>\n",
              "    <tr>\n",
              "      <th>treatment</th>\n",
              "      <td>145311</td>\n",
              "      <td>0</td>\n",
              "    </tr>\n",
              "  </tbody>\n",
              "</table>\n",
              "</div>\n",
              "    <div class=\"colab-df-buttons\">\n",
              "\n",
              "  <div class=\"colab-df-container\">\n",
              "    <button class=\"colab-df-convert\" onclick=\"convertToInteractive('df-7bd15d0f-46f1-4655-a78c-49654cb5a095')\"\n",
              "            title=\"Convert this dataframe to an interactive table.\"\n",
              "            style=\"display:none;\">\n",
              "\n",
              "  <svg xmlns=\"http://www.w3.org/2000/svg\" height=\"24px\" viewBox=\"0 -960 960 960\">\n",
              "    <path d=\"M120-120v-720h720v720H120Zm60-500h600v-160H180v160Zm220 220h160v-160H400v160Zm0 220h160v-160H400v160ZM180-400h160v-160H180v160Zm440 0h160v-160H620v160ZM180-180h160v-160H180v160Zm440 0h160v-160H620v160Z\"/>\n",
              "  </svg>\n",
              "    </button>\n",
              "\n",
              "  <style>\n",
              "    .colab-df-container {\n",
              "      display:flex;\n",
              "      gap: 12px;\n",
              "    }\n",
              "\n",
              "    .colab-df-convert {\n",
              "      background-color: #E8F0FE;\n",
              "      border: none;\n",
              "      border-radius: 50%;\n",
              "      cursor: pointer;\n",
              "      display: none;\n",
              "      fill: #1967D2;\n",
              "      height: 32px;\n",
              "      padding: 0 0 0 0;\n",
              "      width: 32px;\n",
              "    }\n",
              "\n",
              "    .colab-df-convert:hover {\n",
              "      background-color: #E2EBFA;\n",
              "      box-shadow: 0px 1px 2px rgba(60, 64, 67, 0.3), 0px 1px 3px 1px rgba(60, 64, 67, 0.15);\n",
              "      fill: #174EA6;\n",
              "    }\n",
              "\n",
              "    .colab-df-buttons div {\n",
              "      margin-bottom: 4px;\n",
              "    }\n",
              "\n",
              "    [theme=dark] .colab-df-convert {\n",
              "      background-color: #3B4455;\n",
              "      fill: #D2E3FC;\n",
              "    }\n",
              "\n",
              "    [theme=dark] .colab-df-convert:hover {\n",
              "      background-color: #434B5C;\n",
              "      box-shadow: 0px 1px 3px 1px rgba(0, 0, 0, 0.15);\n",
              "      filter: drop-shadow(0px 1px 2px rgba(0, 0, 0, 0.3));\n",
              "      fill: #FFFFFF;\n",
              "    }\n",
              "  </style>\n",
              "\n",
              "    <script>\n",
              "      const buttonEl =\n",
              "        document.querySelector('#df-7bd15d0f-46f1-4655-a78c-49654cb5a095 button.colab-df-convert');\n",
              "      buttonEl.style.display =\n",
              "        google.colab.kernel.accessAllowed ? 'block' : 'none';\n",
              "\n",
              "      async function convertToInteractive(key) {\n",
              "        const element = document.querySelector('#df-7bd15d0f-46f1-4655-a78c-49654cb5a095');\n",
              "        const dataTable =\n",
              "          await google.colab.kernel.invokeFunction('convertToInteractive',\n",
              "                                                    [key], {});\n",
              "        if (!dataTable) return;\n",
              "\n",
              "        const docLinkHtml = 'Like what you see? Visit the ' +\n",
              "          '<a target=\"_blank\" href=https://colab.research.google.com/notebooks/data_table.ipynb>data table notebook</a>'\n",
              "          + ' to learn more about interactive tables.';\n",
              "        element.innerHTML = '';\n",
              "        dataTable['output_type'] = 'display_data';\n",
              "        await google.colab.output.renderOutput(dataTable, element);\n",
              "        const docLink = document.createElement('div');\n",
              "        docLink.innerHTML = docLinkHtml;\n",
              "        element.appendChild(docLink);\n",
              "      }\n",
              "    </script>\n",
              "  </div>\n",
              "\n",
              "\n",
              "<div id=\"df-e963a7d8-a3c1-45d5-b94c-9a498e9e78b6\">\n",
              "  <button class=\"colab-df-quickchart\" onclick=\"quickchart('df-e963a7d8-a3c1-45d5-b94c-9a498e9e78b6')\"\n",
              "            title=\"Suggest charts\"\n",
              "            style=\"display:none;\">\n",
              "\n",
              "<svg xmlns=\"http://www.w3.org/2000/svg\" height=\"24px\"viewBox=\"0 0 24 24\"\n",
              "     width=\"24px\">\n",
              "    <g>\n",
              "        <path d=\"M19 3H5c-1.1 0-2 .9-2 2v14c0 1.1.9 2 2 2h14c1.1 0 2-.9 2-2V5c0-1.1-.9-2-2-2zM9 17H7v-7h2v7zm4 0h-2V7h2v10zm4 0h-2v-4h2v4z\"/>\n",
              "    </g>\n",
              "</svg>\n",
              "  </button>\n",
              "\n",
              "<style>\n",
              "  .colab-df-quickchart {\n",
              "      --bg-color: #E8F0FE;\n",
              "      --fill-color: #1967D2;\n",
              "      --hover-bg-color: #E2EBFA;\n",
              "      --hover-fill-color: #174EA6;\n",
              "      --disabled-fill-color: #AAA;\n",
              "      --disabled-bg-color: #DDD;\n",
              "  }\n",
              "\n",
              "  [theme=dark] .colab-df-quickchart {\n",
              "      --bg-color: #3B4455;\n",
              "      --fill-color: #D2E3FC;\n",
              "      --hover-bg-color: #434B5C;\n",
              "      --hover-fill-color: #FFFFFF;\n",
              "      --disabled-bg-color: #3B4455;\n",
              "      --disabled-fill-color: #666;\n",
              "  }\n",
              "\n",
              "  .colab-df-quickchart {\n",
              "    background-color: var(--bg-color);\n",
              "    border: none;\n",
              "    border-radius: 50%;\n",
              "    cursor: pointer;\n",
              "    display: none;\n",
              "    fill: var(--fill-color);\n",
              "    height: 32px;\n",
              "    padding: 0;\n",
              "    width: 32px;\n",
              "  }\n",
              "\n",
              "  .colab-df-quickchart:hover {\n",
              "    background-color: var(--hover-bg-color);\n",
              "    box-shadow: 0 1px 2px rgba(60, 64, 67, 0.3), 0 1px 3px 1px rgba(60, 64, 67, 0.15);\n",
              "    fill: var(--button-hover-fill-color);\n",
              "  }\n",
              "\n",
              "  .colab-df-quickchart-complete:disabled,\n",
              "  .colab-df-quickchart-complete:disabled:hover {\n",
              "    background-color: var(--disabled-bg-color);\n",
              "    fill: var(--disabled-fill-color);\n",
              "    box-shadow: none;\n",
              "  }\n",
              "\n",
              "  .colab-df-spinner {\n",
              "    border: 2px solid var(--fill-color);\n",
              "    border-color: transparent;\n",
              "    border-bottom-color: var(--fill-color);\n",
              "    animation:\n",
              "      spin 1s steps(1) infinite;\n",
              "  }\n",
              "\n",
              "  @keyframes spin {\n",
              "    0% {\n",
              "      border-color: transparent;\n",
              "      border-bottom-color: var(--fill-color);\n",
              "      border-left-color: var(--fill-color);\n",
              "    }\n",
              "    20% {\n",
              "      border-color: transparent;\n",
              "      border-left-color: var(--fill-color);\n",
              "      border-top-color: var(--fill-color);\n",
              "    }\n",
              "    30% {\n",
              "      border-color: transparent;\n",
              "      border-left-color: var(--fill-color);\n",
              "      border-top-color: var(--fill-color);\n",
              "      border-right-color: var(--fill-color);\n",
              "    }\n",
              "    40% {\n",
              "      border-color: transparent;\n",
              "      border-right-color: var(--fill-color);\n",
              "      border-top-color: var(--fill-color);\n",
              "    }\n",
              "    60% {\n",
              "      border-color: transparent;\n",
              "      border-right-color: var(--fill-color);\n",
              "    }\n",
              "    80% {\n",
              "      border-color: transparent;\n",
              "      border-right-color: var(--fill-color);\n",
              "      border-bottom-color: var(--fill-color);\n",
              "    }\n",
              "    90% {\n",
              "      border-color: transparent;\n",
              "      border-bottom-color: var(--fill-color);\n",
              "    }\n",
              "  }\n",
              "</style>\n",
              "\n",
              "  <script>\n",
              "    async function quickchart(key) {\n",
              "      const quickchartButtonEl =\n",
              "        document.querySelector('#' + key + ' button');\n",
              "      quickchartButtonEl.disabled = true;  // To prevent multiple clicks.\n",
              "      quickchartButtonEl.classList.add('colab-df-spinner');\n",
              "      try {\n",
              "        const charts = await google.colab.kernel.invokeFunction(\n",
              "            'suggestCharts', [key], {});\n",
              "      } catch (error) {\n",
              "        console.error('Error during call to suggestCharts:', error);\n",
              "      }\n",
              "      quickchartButtonEl.classList.remove('colab-df-spinner');\n",
              "      quickchartButtonEl.classList.add('colab-df-quickchart-complete');\n",
              "    }\n",
              "    (() => {\n",
              "      let quickchartButtonEl =\n",
              "        document.querySelector('#df-e963a7d8-a3c1-45d5-b94c-9a498e9e78b6 button');\n",
              "      quickchartButtonEl.style.display =\n",
              "        google.colab.kernel.accessAllowed ? 'block' : 'none';\n",
              "    })();\n",
              "  </script>\n",
              "</div>\n",
              "    </div>\n",
              "  </div>\n"
            ]
          },
          "metadata": {},
          "execution_count": 10
        }
      ]
    },
    {
      "cell_type": "markdown",
      "source": [
        "Before we go ahead and sample the data to get our subset, let's make sure there are no users that have been sampled multiple times.\n",
        "\n"
      ],
      "metadata": {
        "id": "J3_EmiMxtun8"
      }
    },
    {
      "cell_type": "code",
      "source": [
        "# Count the number of sessions each user has in the DataFrame.\n",
        "# The 'value_counts' function also sorts the values in descending order by default.\n",
        "session_counts = df['user_id'].value_counts(ascending=False)\n",
        "\n",
        "# Identify users that appear more than once in the dataset.\n",
        "# These are the users who have session counts greater than 1.\n",
        "multi_users = session_counts[session_counts > 1].count()\n",
        "\n",
        "# Print the number of users that appear multiple times in the dataset.\n",
        "print(f'There are {multi_users} users that appear multiple times in the dataset')\n"
      ],
      "metadata": {
        "colab": {
          "base_uri": "https://localhost:8080/"
        },
        "id": "J804riFatEDf",
        "outputId": "a6c002c8-9a79-4d6b-af4c-fe0a2ac864b2"
      },
      "execution_count": 11,
      "outputs": [
        {
          "output_type": "stream",
          "name": "stdout",
          "text": [
            "There are 1 users that appear multiple times in the dataset\n"
          ]
        }
      ]
    },
    {
      "cell_type": "markdown",
      "source": [
        "There are, in fact, users that appear more than once. Since the number is very low, we'll go ahead and remove them from the DataFrame to avoid sampling the same users twice."
      ],
      "metadata": {
        "id": "eJocgcxmvGUS"
      }
    },
    {
      "cell_type": "code",
      "source": [
        "# Identify the users who appear more than once in the dataset.\n",
        "# These are the users who have session counts greater than 1.\n",
        "users_to_drop = session_counts[session_counts > 1].index\n",
        "\n",
        "# Remove the users that appear more than once from the DataFrame.\n",
        "df = df[~df['user_id'].isin(users_to_drop)]\n",
        "\n",
        "# Print the number of entries in the updated DataFrame.\n",
        "print(f'The updated dataset now has {df.shape[0]} entries')\n"
      ],
      "metadata": {
        "colab": {
          "base_uri": "https://localhost:8080/"
        },
        "id": "8bidk2UpvA-u",
        "outputId": "c66ed4ff-a654-48a6-86dd-279519c76f1d"
      },
      "execution_count": 12,
      "outputs": [
        {
          "output_type": "stream",
          "name": "stdout",
          "text": [
            "The updated dataset now has 290583 entries\n"
          ]
        }
      ]
    },
    {
      "cell_type": "markdown",
      "source": [
        "## 3. Sampling\n",
        "Now that our DataFrame is nice and clean, we can proceed and sample n=4720 entries for each of the groups."
      ],
      "metadata": {
        "id": "itjB5GGcvyIV"
      }
    },
    {
      "cell_type": "code",
      "source": [
        "# Create a sample from the control group. The size of the sample is 'required_n'.\n",
        "# The 'random_state' parameter is set for reproducibility. This ensures that the random samples generated are the same each time this code is run.\n",
        "control_sample = df[df['group'] == 'control'].sample(n=required_n, random_state=22)\n",
        "\n",
        "# Create a sample from the treatment group, similar to the control group sample.\n",
        "treatment_sample = df[df['group'] == 'treatment'].sample(n=required_n, random_state=22)\n",
        "\n",
        "# Combine the control and treatment samples into one DataFrame for the A/B test.\n",
        "# The 'axis=0' argument in the 'concat' function indicates that the DataFrames should be concatenated vertically (i.e., one on top of the other).\n",
        "ab_test = pd.concat([control_sample, treatment_sample], axis=0)\n",
        "\n",
        "# Reset the index of the DataFrame. The 'drop=True' argument indicates that the old index should be discarded.\n",
        "ab_test.reset_index(drop=True, inplace=True)\n"
      ],
      "metadata": {
        "id": "4ICp6-3ovboP"
      },
      "execution_count": 13,
      "outputs": []
    },
    {
      "cell_type": "code",
      "source": [
        "#  verify that the sampling has been done correctly.\n",
        "ab_test['group'].value_counts()\n"
      ],
      "metadata": {
        "colab": {
          "base_uri": "https://localhost:8080/"
        },
        "id": "qHw2W2Y4wx5k",
        "outputId": "80354753-82d5-40f8-abff-a12aec2608e9"
      },
      "execution_count": 17,
      "outputs": [
        {
          "output_type": "execute_result",
          "data": {
            "text/plain": [
              "control      4720\n",
              "treatment    4720\n",
              "Name: group, dtype: int64"
            ]
          },
          "metadata": {},
          "execution_count": 17
        }
      ]
    },
    {
      "cell_type": "markdown",
      "source": [
        "The initial step we can take is to compute some fundamental statistics to gain insights into the characteristics of our samples.\n",
        "\n"
      ],
      "metadata": {
        "id": "Qw-yMcz-xYMS"
      }
    },
    {
      "cell_type": "code",
      "source": [
        "# Group the data by 'group' column and select the 'converted' column\n",
        "conversion_rates = ab_test.groupby('group')['converted']\n",
        "\n",
        "# Define a lambda function to calculate the standard deviation of the proportion\n",
        "std_p = lambda x: np.std(x, ddof=0)\n",
        "\n",
        "# Define a lambda function to calculate the standard error of the proportion (standard deviation / sqrt(n))\n",
        "se_p = lambda x: stats.sem(x, ddof=0)\n",
        "\n",
        "# Apply the aggregation functions (mean, standard deviation, standard error) to the grouped data\n",
        "conversion_rates = conversion_rates.agg([np.mean, std_p, se_p])\n",
        "\n",
        "# Rename the columns for better understanding\n",
        "conversion_rates.columns = ['conversion_rate', 'std_deviation', 'std_error']\n",
        "\n",
        "# Display the DataFrame with formatting applied to three decimal places\n",
        "conversion_rates.style.format('{:.3f}')\n"
      ],
      "metadata": {
        "colab": {
          "base_uri": "https://localhost:8080/",
          "height": 143
        },
        "id": "01gnKNYpw2tC",
        "outputId": "0116a589-9dc8-41bc-f5f3-76cd2e5dd015"
      },
      "execution_count": 18,
      "outputs": [
        {
          "output_type": "execute_result",
          "data": {
            "text/plain": [
              "<pandas.io.formats.style.Styler at 0x7f46228ac220>"
            ],
            "text/html": [
              "<style type=\"text/css\">\n",
              "</style>\n",
              "<table id=\"T_2d70b\" class=\"dataframe\">\n",
              "  <thead>\n",
              "    <tr>\n",
              "      <th class=\"blank level0\" >&nbsp;</th>\n",
              "      <th id=\"T_2d70b_level0_col0\" class=\"col_heading level0 col0\" >conversion_rate</th>\n",
              "      <th id=\"T_2d70b_level0_col1\" class=\"col_heading level0 col1\" >std_deviation</th>\n",
              "      <th id=\"T_2d70b_level0_col2\" class=\"col_heading level0 col2\" >std_error</th>\n",
              "    </tr>\n",
              "    <tr>\n",
              "      <th class=\"index_name level0\" >group</th>\n",
              "      <th class=\"blank col0\" >&nbsp;</th>\n",
              "      <th class=\"blank col1\" >&nbsp;</th>\n",
              "      <th class=\"blank col2\" >&nbsp;</th>\n",
              "    </tr>\n",
              "  </thead>\n",
              "  <tbody>\n",
              "    <tr>\n",
              "      <th id=\"T_2d70b_level0_row0\" class=\"row_heading level0 row0\" >control</th>\n",
              "      <td id=\"T_2d70b_row0_col0\" class=\"data row0 col0\" >0.120</td>\n",
              "      <td id=\"T_2d70b_row0_col1\" class=\"data row0 col1\" >0.325</td>\n",
              "      <td id=\"T_2d70b_row0_col2\" class=\"data row0 col2\" >0.005</td>\n",
              "    </tr>\n",
              "    <tr>\n",
              "      <th id=\"T_2d70b_level0_row1\" class=\"row_heading level0 row1\" >treatment</th>\n",
              "      <td id=\"T_2d70b_row1_col0\" class=\"data row1 col0\" >0.121</td>\n",
              "      <td id=\"T_2d70b_row1_col1\" class=\"data row1 col1\" >0.327</td>\n",
              "      <td id=\"T_2d70b_row1_col2\" class=\"data row1 col2\" >0.005</td>\n",
              "    </tr>\n",
              "  </tbody>\n",
              "</table>\n"
            ]
          },
          "metadata": {},
          "execution_count": 18
        }
      ]
    },
    {
      "cell_type": "markdown",
      "source": [
        "Based on the statistics provided, it appears that the two designs had very similar performance, with the new design showing a slight improvement. The conversion rate was approximately 12.3% for the old design and 12.6% for the new design.\n",
        "\n",
        "Visualizing these results can make them easier to understand, so let's proceed with creating a plot:"
      ],
      "metadata": {
        "id": "DDH_j_HXzIfA"
      }
    },
    {
      "cell_type": "code",
      "source": [
        "# Set the size of the figure\n",
        "plt.figure(figsize=(8,6))\n",
        "\n",
        "# Create a bar plot of the 'converted' column for each group. 'ci=False' removes the confidence interval.\n",
        "sns.barplot(x=ab_test['group'], y=ab_test['converted'],errorbar=('ci', False))\n",
        "\n",
        "# Set the limits of the y-axis\n",
        "plt.ylim(0, 0.17)\n",
        "\n",
        "# Set the title of the plot, with some additional padding for better aesthetics\n",
        "plt.title('Conversion rate by group', pad=20)\n",
        "\n",
        "# Set the label of the x-axis, with some additional padding for better aesthetics\n",
        "plt.xlabel('Group', labelpad=15)\n",
        "\n",
        "# Set the label of the y-axis, with some additional padding for better aesthetics\n",
        "plt.ylabel('Converted (proportion)', labelpad=15);\n"
      ],
      "metadata": {
        "colab": {
          "base_uri": "https://localhost:8080/",
          "height": 608
        },
        "id": "2xpablMMxmYh",
        "outputId": "2f13819b-8841-4036-b9cd-612f29050681"
      },
      "execution_count": 25,
      "outputs": [
        {
          "output_type": "display_data",
          "data": {
            "text/plain": [
              "<Figure size 800x600 with 1 Axes>"
            ],
            "image/png": "[encoded data removed]"
          },
          "metadata": {}
        }
      ]
    },
    {
      "cell_type": "markdown",
      "source": [
        "The conversion rates for our groups are indeed very close. Also note that the conversion rate of the control group is lower than what we would have expected given what we knew about our avg. conversion rate (12.3% vs. 13%). This goes to show that there is some variation in results when sampling from a population.\n",
        "\n",
        "As for the treatment group, while its value is higher, the key question remains: Is this difference statistically significant?"
      ],
      "metadata": {
        "id": "RkP-GJgM08j3"
      }
    },
    {
      "cell_type": "markdown",
      "source": [
        "## 4. Testing the hypothesis\n",
        "\n",
        "The final stage of our analysis involves testing our hypothesis. Given the large size of our sample, we can utilize the normal approximation for calculating our p-value, which is a method known as the z-test.\n",
        "\n",
        "Python simplifies all these calculations for us. We can employ the `statsmodels.stats.proportion` module to obtain the p-value and confidence intervals."
      ],
      "metadata": {
        "id": "PvT-DwMe12Lf"
      }
    },
    {
      "cell_type": "code",
      "source": [
        "# Importing the necessary functions for the test\n",
        "from statsmodels.stats.proportion import proportions_ztest, proportion_confint\n",
        "\n",
        "# Getting the results of the control group from the ab_test dataframe\n",
        "control_results = ab_test[ab_test['group'] == 'control']['converted']\n",
        "\n",
        "# Getting the results of the treatment group from the ab_test dataframe\n",
        "treatment_results = ab_test[ab_test['group'] == 'treatment']['converted']"
      ],
      "metadata": {
        "id": "wF8TRGl2zg8R"
      },
      "execution_count": 26,
      "outputs": []
    },
    {
      "cell_type": "code",
      "source": [
        "# Counting the number of observations in control group\n",
        "n_con = control_results.count()\n",
        "\n",
        "# Counting the number of observations in treatment group\n",
        "n_treat = treatment_results.count()\n",
        "\n",
        "# Summing up the successes (conversions) in both groups\n",
        "successes = [control_results.sum(), treatment_results.sum()]\n",
        "\n",
        "# Creating a list of the number of observations in both groups\n",
        "nobs = [n_con, n_treat]\n",
        "\n",
        "# Performing the z-test\n",
        "z_stat, pval = proportions_ztest(successes, nobs=nobs)\n",
        "\n",
        "# Calculating the confidence interval for both groups\n",
        "(lower_con, lower_treat), (upper_con, upper_treat) = proportion_confint(successes, nobs=nobs, alpha=0.05)\n",
        "\n",
        "# Printing the z statistic\n",
        "print(f'z statistic: {z_stat:.2f}')\n",
        "\n",
        "# Printing the p-value\n",
        "print(f'p-value: {pval:.3f}')\n",
        "\n",
        "# Printing the confidence interval for the control group\n",
        "print(f'ci 95% for control group: [{lower_con:.3f}, {upper_con:.3f}]')\n",
        "\n",
        "# Printing the confidence interval for the treatment group\n",
        "print(f'ci 95% for treatment group: [{lower_treat:.3f}, {upper_treat:.3f}]')\n"
      ],
      "metadata": {
        "colab": {
          "base_uri": "https://localhost:8080/"
        },
        "id": "Lh2BUue13xgn",
        "outputId": "3dfc548d-3b15-4c29-9f8e-325bc959425a"
      },
      "execution_count": 29,
      "outputs": [
        {
          "output_type": "stream",
          "name": "stdout",
          "text": [
            "z statistic: -0.16\n",
            "p-value: 0.875\n",
            "ci 95% for control group: [0.111, 0.130]\n",
            "ci 95% for treatment group: [0.112, 0.131]\n"
          ]
        }
      ]
    },
    {
      "cell_type": "markdown",
      "source": [
        "## 5. Drawing conclusions"
      ],
      "metadata": {
        "id": "HLZ5aWVu4h9X"
      }
    },
    {
      "cell_type": "markdown",
      "source": [
        "Given that our p-value of 0.732 significantly exceeds our α-level of 0.05, we are unable to reject the null hypothesis. This implies that there is no significant difference in performance between our new and old designs, much less any improvement.\n",
        "\n",
        "Moreover, when we examine the confidence interval for the treatment group, which ranges from 11.6% to 13.5% (i.e., [0.116, 0.135]), we observe two key points:\n",
        "\n",
        "1. Our baseline conversion rate of 13% is included within this interval.\n",
        "2. Our target value of 15%, which represents the 2% uplift we were aiming for, is not included within this interval.\n",
        "\n",
        "These observations suggest that the true conversion rate of the new design is likely closer to our baseline rather than the 15% target we had set. This further indicates that our new design probably doesn't improve upon our old one. Unfortunately, it seems we might have to go back to the drawing board."
      ],
      "metadata": {
        "id": "THteJPdb4j4g"
      }
    }
  ]
}